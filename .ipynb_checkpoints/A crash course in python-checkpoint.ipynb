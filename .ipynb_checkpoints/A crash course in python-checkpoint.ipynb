{
 "cells": [
  {
   "cell_type": "markdown",
   "id": "6a055153",
   "metadata": {},
   "source": [
    "# Dictionaries"
   ]
  },
  {
   "cell_type": "code",
   "execution_count": 1,
   "id": "0f026737",
   "metadata": {},
   "outputs": [],
   "source": [
    "# Pythonic way to create a dictionary\n",
    "adict = {}"
   ]
  },
  {
   "cell_type": "code",
   "execution_count": 2,
   "id": "12e2b3fa",
   "metadata": {},
   "outputs": [],
   "source": [
    "adict['Sample'] = [1, 2, 3, 4, 5]\n",
    "adict[(12, 14)] = \"Message\"\n",
    "adict[13] = 156"
   ]
  },
  {
   "cell_type": "code",
   "execution_count": 3,
   "id": "22e68b9e",
   "metadata": {},
   "outputs": [
    {
     "name": "stdout",
     "output_type": "stream",
     "text": [
      "{'Sample': [1, 2, 3, 4, 5], (12, 14): 'Message', 13: 156}\n"
     ]
    }
   ],
   "source": [
    "print(adict)"
   ]
  },
  {
   "cell_type": "code",
   "execution_count": 4,
   "id": "88583e2c",
   "metadata": {},
   "outputs": [
    {
     "name": "stdout",
     "output_type": "stream",
     "text": [
      "False\n",
      "False\n",
      "True\n"
     ]
    }
   ],
   "source": [
    "# To check weather a key is present in a dictionary\n",
    "\n",
    "# Less python way to do it is\n",
    "for i in adict.keys():\n",
    "    if i==13:\n",
    "        print(True)\n",
    "    else:\n",
    "        print(False)"
   ]
  },
  {
   "cell_type": "code",
   "execution_count": 5,
   "id": "706a3b69",
   "metadata": {},
   "outputs": [
    {
     "data": {
      "text/plain": [
       "[1, 2, 3, 4, 5]"
      ]
     },
     "execution_count": 5,
     "metadata": {},
     "output_type": "execute_result"
    }
   ],
   "source": [
    "# Pythonic way to do the same as above is\n",
    "adict.get('Sample', 0) #0 is the default return value if Sample is not present in adict dictionary"
   ]
  },
  {
   "cell_type": "markdown",
   "id": "9e9f02d5",
   "metadata": {},
   "source": [
    "# default dict"
   ]
  },
  {
   "cell_type": "code",
   "execution_count": 6,
   "id": "77b9bc8c",
   "metadata": {},
   "outputs": [],
   "source": [
    "from collections import defaultdict"
   ]
  },
  {
   "cell_type": "code",
   "execution_count": 7,
   "id": "efa14491",
   "metadata": {},
   "outputs": [
    {
     "name": "stdout",
     "output_type": "stream",
     "text": [
      "defaultdict(<class 'int'>, {'Sample': 2, 'Table': 1, 'Dreams': 1})\n"
     ]
    }
   ],
   "source": [
    "word_counts = defaultdict(int)\n",
    "words = ['Sample', 'Table', 'Dreams', 'Sample']\n",
    "for word in words:\n",
    "    word_counts[word] += 1\n",
    "print(word_counts)"
   ]
  },
  {
   "cell_type": "markdown",
   "id": "8059b92a",
   "metadata": {},
   "source": [
    "# Counter"
   ]
  },
  {
   "cell_type": "code",
   "execution_count": 8,
   "id": "f234b99a",
   "metadata": {},
   "outputs": [],
   "source": [
    "from collections import Counter"
   ]
  },
  {
   "cell_type": "code",
   "execution_count": 9,
   "id": "44c4e970",
   "metadata": {},
   "outputs": [],
   "source": [
    "c = Counter(word_counts)"
   ]
  },
  {
   "cell_type": "code",
   "execution_count": 10,
   "id": "3dcc835e",
   "metadata": {},
   "outputs": [
    {
     "data": {
      "text/plain": [
       "Counter({'Sample': 2, 'Table': 1, 'Dreams': 1})"
      ]
     },
     "execution_count": 10,
     "metadata": {},
     "output_type": "execute_result"
    }
   ],
   "source": [
    "c"
   ]
  },
  {
   "cell_type": "code",
   "execution_count": 11,
   "id": "7fd02b26",
   "metadata": {},
   "outputs": [
    {
     "name": "stdout",
     "output_type": "stream",
     "text": [
      "Word: Sample  ;  Count: 2\n",
      "Word: Table  ;  Count: 1\n",
      "Word: Dreams  ;  Count: 1\n"
     ]
    }
   ],
   "source": [
    "# to print the most common 10 words\n",
    "for word, count in c.most_common(10):\n",
    "    print(f'Word: {word}  ;  Count: {count}')"
   ]
  },
  {
   "cell_type": "markdown",
   "id": "bbb169d6",
   "metadata": {},
   "source": [
    "# Any and All"
   ]
  },
  {
   "cell_type": "code",
   "execution_count": 12,
   "id": "6a367566",
   "metadata": {},
   "outputs": [
    {
     "name": "stdout",
     "output_type": "stream",
     "text": [
      "True\n",
      "False\n",
      "False\n"
     ]
    }
   ],
   "source": [
    "# all returns true if all are truthy\n",
    "print(all([True, 1, \"j\"]))\n",
    "print(all([True, 1, \"\"]))\n",
    "print(all([True, 0, \"j\"]))"
   ]
  },
  {
   "cell_type": "code",
   "execution_count": 13,
   "id": "8ab62415",
   "metadata": {},
   "outputs": [
    {
     "name": "stdout",
     "output_type": "stream",
     "text": [
      "True\n",
      "False\n"
     ]
    }
   ],
   "source": [
    "# any returns true if any of the elements are truthy\n",
    "print(any([True, 0, \"\"]))\n",
    "print(any([False, 0, \"\"]))"
   ]
  },
  {
   "cell_type": "markdown",
   "id": "4ad7dccf",
   "metadata": {},
   "source": [
    "# Comprehensions"
   ]
  },
  {
   "cell_type": "markdown",
   "id": "f0870b55",
   "metadata": {},
   "source": [
    "## List comprehensions"
   ]
  },
  {
   "cell_type": "code",
   "execution_count": 14,
   "id": "353e975e",
   "metadata": {},
   "outputs": [
    {
     "name": "stdout",
     "output_type": "stream",
     "text": [
      "[0, 1, 4, 9, 16, 25, 36, 49, 64, 81]\n"
     ]
    }
   ],
   "source": [
    "x = [i**2 for i in range(10)]\n",
    "print(x)"
   ]
  },
  {
   "cell_type": "markdown",
   "id": "e527e7ed",
   "metadata": {},
   "source": [
    "## Dictionary Comprehensions"
   ]
  },
  {
   "cell_type": "code",
   "execution_count": 15,
   "id": "67fb722e",
   "metadata": {},
   "outputs": [
    {
     "name": "stdout",
     "output_type": "stream",
     "text": [
      "{0: 0, 1: 1, 2: 4, 3: 9, 4: 16, 5: 25, 6: 36, 7: 49, 8: 64, 9: 81}\n"
     ]
    }
   ],
   "source": [
    "x = {i : i**2 for i in range(10)}\n",
    "print(x)"
   ]
  },
  {
   "cell_type": "markdown",
   "id": "a50f55cb",
   "metadata": {},
   "source": [
    "# Assert and Automated Testing"
   ]
  },
  {
   "cell_type": "code",
   "execution_count": 16,
   "id": "87a2c686",
   "metadata": {},
   "outputs": [],
   "source": [
    "def some_add(a = int, b = int):\n",
    "    return a+b"
   ]
  },
  {
   "cell_type": "code",
   "execution_count": 17,
   "id": "bfcaf249",
   "metadata": {},
   "outputs": [],
   "source": [
    "assert some_add(1, 2) == 3, \"some_add(1, 2) should return 3\""
   ]
  },
  {
   "cell_type": "code",
   "execution_count": 18,
   "id": "58cbc57f",
   "metadata": {},
   "outputs": [
    {
     "ename": "AssertionError",
     "evalue": "some_add(1, 2) should return 3",
     "output_type": "error",
     "traceback": [
      "\u001b[1;31m---------------------------------------------------------------------------\u001b[0m",
      "\u001b[1;31mAssertionError\u001b[0m                            Traceback (most recent call last)",
      "\u001b[1;32m<ipython-input-18-21227936229f>\u001b[0m in \u001b[0;36m<module>\u001b[1;34m\u001b[0m\n\u001b[1;32m----> 1\u001b[1;33m \u001b[1;32massert\u001b[0m \u001b[0msome_add\u001b[0m\u001b[1;33m(\u001b[0m\u001b[1;36m1\u001b[0m\u001b[1;33m,\u001b[0m \u001b[1;36m2\u001b[0m\u001b[1;33m)\u001b[0m \u001b[1;33m==\u001b[0m \u001b[1;36m4\u001b[0m\u001b[1;33m,\u001b[0m \u001b[1;34m\"some_add(1, 2) should return 3\"\u001b[0m\u001b[1;33m\u001b[0m\u001b[1;33m\u001b[0m\u001b[0m\n\u001b[0m",
      "\u001b[1;31mAssertionError\u001b[0m: some_add(1, 2) should return 3"
     ]
    }
   ],
   "source": [
    "assert some_add(1, 2) == 4, \"some_add(1, 2) should return 3\""
   ]
  },
  {
   "cell_type": "markdown",
   "id": "73f56107",
   "metadata": {},
   "source": [
    "# Object Oriented Programming"
   ]
  },
  {
   "cell_type": "code",
   "execution_count": 19,
   "id": "056d9792",
   "metadata": {},
   "outputs": [],
   "source": [
    "class Counter:\n",
    "    \n",
    "    def __init__(self):\n",
    "        self.count = 0\n",
    "    \n",
    "    def plus(self, count):\n",
    "        self.count += count\n",
    "        \n",
    "    def reset(self):\n",
    "        self.count = 0\n",
    "        \n",
    "    def __str__(self):\n",
    "        return f\"Count = {self.count}\""
   ]
  },
  {
   "cell_type": "code",
   "execution_count": 20,
   "id": "afdd17bf",
   "metadata": {},
   "outputs": [],
   "source": [
    "j = Counter()\n",
    "j.plus(1)\n",
    "j.plus(10)"
   ]
  },
  {
   "cell_type": "code",
   "execution_count": 21,
   "id": "76adee61",
   "metadata": {},
   "outputs": [
    {
     "name": "stdout",
     "output_type": "stream",
     "text": [
      "Count = 11\n"
     ]
    }
   ],
   "source": [
    "print(j)"
   ]
  },
  {
   "cell_type": "code",
   "execution_count": 22,
   "id": "b3a0a376",
   "metadata": {},
   "outputs": [
    {
     "name": "stdout",
     "output_type": "stream",
     "text": [
      "Count = 0\n"
     ]
    }
   ],
   "source": [
    "j.reset()\n",
    "print(j)"
   ]
  },
  {
   "cell_type": "code",
   "execution_count": 23,
   "id": "26df90fc",
   "metadata": {},
   "outputs": [],
   "source": [
    "# a subclass with no reset\n",
    "class NoResetCounter(Counter):\n",
    "    def reset(self):\n",
    "        pass"
   ]
  },
  {
   "cell_type": "code",
   "execution_count": 24,
   "id": "5c454745",
   "metadata": {},
   "outputs": [
    {
     "name": "stdout",
     "output_type": "stream",
     "text": [
      "Count = 12\n",
      "Count = 12\n"
     ]
    }
   ],
   "source": [
    "j = NoResetCounter()\n",
    "j.plus(1)\n",
    "j.plus(11)\n",
    "print(j)\n",
    "j.reset()\n",
    "print(j)"
   ]
  },
  {
   "cell_type": "markdown",
   "id": "6c96be99",
   "metadata": {},
   "source": [
    "# Iterables and Generators"
   ]
  },
  {
   "cell_type": "code",
   "execution_count": 25,
   "id": "4a5dfa30",
   "metadata": {},
   "outputs": [],
   "source": [
    "def generate_range(n):\n",
    "    i = 0\n",
    "    while i<n:\n",
    "        yield i**2\n",
    "        i+=1"
   ]
  },
  {
   "cell_type": "code",
   "execution_count": 26,
   "id": "56400cc4",
   "metadata": {},
   "outputs": [
    {
     "name": "stdout",
     "output_type": "stream",
     "text": [
      "0\n",
      "1\n",
      "4\n",
      "9\n",
      "16\n",
      "25\n",
      "36\n",
      "49\n",
      "64\n",
      "81\n"
     ]
    }
   ],
   "source": [
    "for j in generate_range(10):\n",
    "    print(j)"
   ]
  },
  {
   "cell_type": "markdown",
   "id": "c8d005fc",
   "metadata": {},
   "source": [
    "# Randomness"
   ]
  },
  {
   "cell_type": "code",
   "execution_count": 27,
   "id": "a35cb45b",
   "metadata": {},
   "outputs": [
    {
     "name": "stdout",
     "output_type": "stream",
     "text": [
      "[0.5714025946899135, 0.4288890546751146, 0.5780913011344704, 0.20609823213950174]\n"
     ]
    }
   ],
   "source": [
    "import random\n",
    "random.seed(10)  #This ensures that we get same values every time\n",
    "\n",
    "four_random_numbers = [random.random() for _ in range(4)]\n",
    "print(four_random_numbers)"
   ]
  },
  {
   "cell_type": "code",
   "execution_count": 28,
   "id": "36d65fb3",
   "metadata": {},
   "outputs": [
    {
     "name": "stdout",
     "output_type": "stream",
     "text": [
      "[3, 9, 7, 4, 1, 2, 6, 5, 8]\n"
     ]
    }
   ],
   "source": [
    "# to shuffle a list\n",
    "\n",
    "l = [1, 2, 3, 4, 5, 6, 7, 8, 9]\n",
    "random.shuffle(l)\n",
    "print(l)"
   ]
  },
  {
   "cell_type": "code",
   "execution_count": 29,
   "id": "3417ad7d",
   "metadata": {},
   "outputs": [
    {
     "data": {
      "text/plain": [
       "'Bharadwaja'"
      ]
     },
     "execution_count": 29,
     "metadata": {},
     "output_type": "execute_result"
    }
   ],
   "source": [
    "# random choice from a list\n",
    "\n",
    "l = ['Sreemannarayana', 'Bharadwaja', 'Prabhakar', 'Sreelekha']\n",
    "random.choice(l)"
   ]
  },
  {
   "cell_type": "code",
   "execution_count": 30,
   "id": "14a7dfd6",
   "metadata": {},
   "outputs": [
    {
     "name": "stdout",
     "output_type": "stream",
     "text": [
      "[95, 46, 5, 53, 17, 77, 45, 48, 36, 86]\n"
     ]
    }
   ],
   "source": [
    "# random sample of numbers\n",
    "l = range(100)\n",
    "winning_numbers = random.sample(l, 10)\n",
    "print(winning_numbers)"
   ]
  },
  {
   "cell_type": "code",
   "execution_count": 31,
   "id": "cd8414a0",
   "metadata": {},
   "outputs": [
    {
     "name": "stdout",
     "output_type": "stream",
     "text": [
      "['Prabhakar', 'Bharadwaja']\n"
     ]
    }
   ],
   "source": [
    "l = ['Sreemannarayana', 'Bharadwaja', 'Prabhakar', 'Sreelekha']\n",
    "lucky_two = random.sample(l, 2)\n",
    "print(lucky_two)"
   ]
  },
  {
   "cell_type": "code",
   "execution_count": 32,
   "id": "273f99aa",
   "metadata": {},
   "outputs": [
    {
     "name": "stdout",
     "output_type": "stream",
     "text": [
      "[2, 4, 5, 2]\n"
     ]
    }
   ],
   "source": [
    "# to generate a sample with duplicates\n",
    "\n",
    "l = range(10)\n",
    "winning_numbers = [random.choice(l) for _ in range(4)]\n",
    "print(winning_numbers)"
   ]
  },
  {
   "cell_type": "markdown",
   "id": "19eed067",
   "metadata": {},
   "source": [
    "# Regular Expressions"
   ]
  },
  {
   "cell_type": "code",
   "execution_count": 33,
   "id": "c80933bc",
   "metadata": {},
   "outputs": [],
   "source": [
    "import re"
   ]
  },
  {
   "cell_type": "code",
   "execution_count": 34,
   "id": "9b4dbeca",
   "metadata": {},
   "outputs": [],
   "source": [
    "re_examples = [\n",
    "    not re.match('a', 'Sreemannarayana'),\n",
    "    re.search('a', 'Sreemannarayana'),\n",
    "    not re.search('c', 'Sreemannarayana'),\n",
    "    re.split(\"[ae]\", \"Sreemannarayana\"),\n",
    "    re.sub(\"[ae]\", \"-\", \"Sreemannarayana\")\n",
    "]"
   ]
  },
  {
   "cell_type": "code",
   "execution_count": 35,
   "id": "220cfa36",
   "metadata": {},
   "outputs": [
    {
     "name": "stdout",
     "output_type": "stream",
     "text": [
      "[True, <_sre.SRE_Match object; span=(5, 6), match='a'>, True, ['Sr', '', 'm', 'nn', 'r', 'y', 'n', ''], 'Sr--m-nn-r-y-n-']\n"
     ]
    }
   ],
   "source": [
    "print(re_examples)"
   ]
  },
  {
   "cell_type": "markdown",
   "id": "6d716d03",
   "metadata": {},
   "source": [
    "# Zip and unzip"
   ]
  },
  {
   "cell_type": "code",
   "execution_count": 36,
   "id": "15db6813",
   "metadata": {},
   "outputs": [
    {
     "name": "stdout",
     "output_type": "stream",
     "text": [
      "[(1, 'a'), (2, 'b'), (3, 'c')]\n"
     ]
    }
   ],
   "source": [
    "l1 = [1, 2, 3]\n",
    "l2 = ['a', 'b', 'c']\n",
    "\n",
    "l = zip(l1, l2)\n",
    "l = [i for i in l]\n",
    "print(l)"
   ]
  },
  {
   "cell_type": "code",
   "execution_count": 37,
   "id": "166fe445",
   "metadata": {},
   "outputs": [
    {
     "name": "stdout",
     "output_type": "stream",
     "text": [
      "(1, 2, 3)\n",
      "('a', 'b', 'c')\n"
     ]
    }
   ],
   "source": [
    "#unzip\n",
    "\n",
    "l = zip(l1, l2)\n",
    "k = zip(*l)\n",
    "numbers, alphabets = k\n",
    "print(numbers)\n",
    "print(alphabets)"
   ]
  },
  {
   "cell_type": "code",
   "execution_count": 38,
   "id": "d476586c",
   "metadata": {},
   "outputs": [
    {
     "name": "stdout",
     "output_type": "stream",
     "text": [
      "3\n",
      "3\n"
     ]
    }
   ],
   "source": [
    "# we can also perform argument unpacking using *\n",
    "\n",
    "def add(a, b): return a+b\n",
    "\n",
    "print(add(1,2))\n",
    "\n",
    "print(add(*[1, 2]))  #argument unpacking"
   ]
  }
 ],
 "metadata": {
  "kernelspec": {
   "display_name": "Python 3",
   "language": "python",
   "name": "python3"
  },
  "language_info": {
   "codemirror_mode": {
    "name": "ipython",
    "version": 3
   },
   "file_extension": ".py",
   "mimetype": "text/x-python",
   "name": "python",
   "nbconvert_exporter": "python",
   "pygments_lexer": "ipython3",
   "version": "3.6.13"
  }
 },
 "nbformat": 4,
 "nbformat_minor": 5
}
