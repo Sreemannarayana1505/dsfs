{
 "cells": [
  {
   "cell_type": "code",
   "execution_count": 3,
   "id": "3261c95f",
   "metadata": {},
   "outputs": [],
   "source": [
    "import matplotlib.pyplot as plt"
   ]
  },
  {
   "cell_type": "markdown",
   "id": "09eb9f03",
   "metadata": {},
   "source": [
    "# Bar Graphs"
   ]
  },
  {
   "cell_type": "markdown",
   "id": "e2421e14",
   "metadata": {},
   "source": [
    "## Simple Bar Graph"
   ]
  },
  {
   "cell_type": "code",
   "execution_count": 18,
   "id": "c4b34841",
   "metadata": {},
   "outputs": [
    {
     "data": {
      "image/png": "[encoded data removed]",
      "text/plain": [
       "<Figure size 432x288 with 1 Axes>"
      ]
     },
     "metadata": {
      "needs_background": "light"
     },
     "output_type": "display_data"
    }
   ],
   "source": [
    "# data\n",
    "subjects = ['IEVT', 'SCEV', 'PQP', 'DS']\n",
    "marks = [18, 18, 15, 14.5]  #marks out of 20\n",
    "\n",
    "#making graph\n",
    "plt.bar(subjects, marks)\n",
    "\n",
    "#decorating / adding details to plots\n",
    "plt.title('Mid 1 marks')\n",
    "plt.yticks([2*i for i in range(11)]) # This is better than plt.ylims(0, 20)\n",
    "plt.ylabel('Marks')\n",
    "plt.xlabel('Subjects')\n",
    "\n",
    "#displaying plot\n",
    "plt.show();"
   ]
  },
  {
   "cell_type": "markdown",
   "id": "fd6ed771",
   "metadata": {},
   "source": [
    "## Making an histogram"
   ]
  },
  {
   "cell_type": "code",
   "execution_count": 57,
   "id": "b78fb3be",
   "metadata": {},
   "outputs": [
    {
     "data": {
      "image/png": "[encoded data removed]",
      "text/plain": [
       "<Figure size 432x288 with 1 Axes>"
      ]
     },
     "metadata": {
      "needs_background": "light"
     },
     "output_type": "display_data"
    }
   ],
   "source": [
    "from collections import Counter\n",
    "\n",
    "# data\n",
    "subjects = ['IEVT', 'SCEV', 'PQP', 'DS', 'DC', 'DLC']\n",
    "marks = [18, 18, 15, 14.5, 20, 15]  #marks out of 20\n",
    "\n",
    "#creating a Counter object\n",
    "histogram = Counter(min(mark // 2 * 2, 20) for mark in marks)  #creates Counter({18: 2, 14: 2}) object\n",
    "\n",
    "#creating plot\n",
    "plt.bar([i+1 for i in histogram.keys()],  #shifting the bar by adding 1, to place bar exactly in between two numbers\n",
    "        histogram.values(),\n",
    "        2, #2 is the spacing between two distinct values of x in the plot for example 14 and 16\n",
    "        edgecolor=(0, 0, 0));   # edgecolor applies colors to bars\n",
    "\n",
    "#Decorating / adding details \n",
    "plt.xticks([2*i for i in range(11)])\n",
    "plt.yticks([i for i in range(4)])\n",
    "\n",
    "plt.title('Mid 1 Grades Distribution')\n",
    "plt.xlabel('Grades')\n",
    "plt.ylabel('Count')\n",
    "\n",
    "plt.axis(\n",
    "    [-1, 23, 0, 3.5] #[x_start, x_end, y_start, y_end]\n",
    ") # This function is called to make some extra space in x and y axis\n",
    "\n",
    "#displaying plot\n",
    "plt.show();"
   ]
  }
 ],
 "metadata": {
  "kernelspec": {
   "display_name": "Python 3",
   "language": "python",
   "name": "python3"
  },
  "language_info": {
   "codemirror_mode": {
    "name": "ipython",
    "version": 3
   },
   "file_extension": ".py",
   "mimetype": "text/x-python",
   "name": "python",
   "nbconvert_exporter": "python",
   "pygments_lexer": "ipython3",
   "version": "3.6.13"
  }
 },
 "nbformat": 4,
 "nbformat_minor": 5
}
